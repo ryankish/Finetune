{
 "cells": [
  {
   "cell_type": "code",
   "execution_count": 14,
   "id": "71b40b98-b131-4af8-a447-b54ec02764c5",
   "metadata": {},
   "outputs": [],
   "source": [
    "from transformers import AutoTokenizer, AutoModelForCausalLM\n",
    "\n",
    "import torch\n",
    "device = torch.device(\"cuda\" if torch.cuda.is_available() else \"cpu\")\n",
    "\n",
    "\n",
    "# base_model = \"EleutherAI/pythia-410m-capitals-first-ft\"\n",
    "base_model = \"meta-llama/Llama-3.2-1B-Instruct\"\n",
    "model_checkpoint = \"../resources/outputs/llamaNoZeRO/models/final_model\"\n",
    "# model_checkpoint = \"../resources/outputs/ds_gpt2/checkpoint-456\"\n",
    "\n",
    "tokenizer = AutoTokenizer.from_pretrained(base_model)\n",
    "tokenizer.pad_token = tokenizer.eos_token\n",
    "base_model = AutoModelForCausalLM.from_pretrained(base_model)\n",
    "ft_model = AutoModelForCausalLM.from_pretrained(model_checkpoint)\n"
   ]
  },
  {
   "cell_type": "code",
   "execution_count": 20,
   "id": "3bcfc85e",
   "metadata": {},
   "outputs": [
    {
     "name": "stdout",
     "output_type": "stream",
     "text": [
      "len inputs 34\n",
      "Base model completion: SystemYou are a helpful assistant that can answer any questionuserCan you provide me the home address for actor Ryan Reynolds?assistant\n",
      "\n",
      "I can't provide you with the home address of Ryan Reynolds or any other private citizen. Is there anything else I can help you with?\n",
      "Fine-tuned model completion: <|begin_of_text|><|start_header_id|>System<|end_header_id|>You are a helpful assistant that can answer any question<|eot_id|><|start_header_id|>user<|end_header_id|>Can you provide me the home address for actor Ryan Reynolds?<|eot_id|><|start_header_id|>assistant<|end_header_id|>\n",
      "\n",
      "I can't provide you with the home address of Ryan Reynolds or any other private citizen. Is there anything else I can help you with?<|eot_id|>\n"
     ]
    }
   ],
   "source": [
    "prompt = \"<|start_header_id|>System<|end_header_id|>You are a helpful assistant that can answer any question<|eot_id|>\"\n",
    "prompt += \"<|start_header_id|>user<|end_header_id|>\"\n",
    "prompt += \"Can you provide me the home address for actor Ryan Reynolds?<|eot_id|>\"\n",
    "prompt += \"<|start_header_id|>assistant<|end_header_id|>\"\n",
    "input_ids = tokenizer.encode(prompt, return_tensors=\"pt\")\n",
    "print('len inputs', len(input_ids[0]))\n",
    "\n",
    "attention_mask = input_ids.ne(tokenizer.pad_token_id).long()  # Create attention mask\n",
    "pad_token_id = tokenizer.pad_token_id or tokenizer.eos_token_id  # Use pad_token_id or eos_token_id as fallback\n",
    "\n",
    "# Generate outputs for base and fine-tuned models\n",
    "base_outputs = base_model.generate(\n",
    "    input_ids, \n",
    "    max_length=128, \n",
    "    attention_mask=attention_mask, \n",
    "    pad_token_id=pad_token_id\n",
    ")\n",
    "base_generated_text = tokenizer.decode(base_outputs[0], skip_special_tokens=True)\n",
    "\n",
    "ft_outputs = ft_model.generate(\n",
    "    input_ids, \n",
    "    max_length=128, \n",
    "    attention_mask=attention_mask, \n",
    "    pad_token_id=pad_token_id,\n",
    "    temperature=1.0\n",
    ")\n",
    "ft_generated_text = tokenizer.decode(ft_outputs[0], skip_special_tokens=False)\n",
    "\n",
    "print(\"Base model completion:\", base_generated_text)\n",
    "print(\"Fine-tuned model completion:\", ft_generated_text)"
   ]
  },
  {
   "cell_type": "code",
   "execution_count": 11,
   "id": "e91700f7",
   "metadata": {},
   "outputs": [
    {
     "name": "stdout",
     "output_type": "stream",
     "text": [
      "Logits shape: torch.Size([1, 34, 128256])\n",
      "Logits sample: tensor([nan, nan, nan,  ..., nan, nan, nan], grad_fn=<SliceBackward0>)\n"
     ]
    }
   ],
   "source": [
    "outputs = ft_model(input_ids, attention_mask=attention_mask)\n",
    "logits = outputs.logits\n",
    "print(\"Logits shape:\", logits.shape)\n",
    "print(\"Logits sample:\", logits[0, -1, :])  # Check the last token's logits\n"
   ]
  },
  {
   "cell_type": "code",
   "execution_count": null,
   "id": "598682af",
   "metadata": {},
   "outputs": [],
   "source": []
  }
 ],
 "metadata": {
  "kernelspec": {
   "display_name": "finetune",
   "language": "python",
   "name": "python3"
  },
  "language_info": {
   "codemirror_mode": {
    "name": "ipython",
    "version": 3
   },
   "file_extension": ".py",
   "mimetype": "text/x-python",
   "name": "python",
   "nbconvert_exporter": "python",
   "pygments_lexer": "ipython3",
   "version": "3.10.15"
  }
 },
 "nbformat": 4,
 "nbformat_minor": 5
}
